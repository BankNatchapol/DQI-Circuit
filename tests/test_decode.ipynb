{
 "cells": [
  {
   "cell_type": "code",
   "execution_count": 113,
   "metadata": {},
   "outputs": [],
   "source": [
    "import numpy as np\n",
    "import random\n",
    "import matplotlib.pyplot as plt\n",
    "import time\n",
    "\n",
    "# --------------------------------------------------------------------------\n",
    "def calculateSyndrome(codeword, parityCheck):\n",
    "    # Izračunavanje sindroma parnosti\n",
    "    syndrome = 0\n",
    "\n",
    "    for bitPosition in parityCheck:\n",
    "        syndrome ^= codeword[bitPosition]\n",
    "\n",
    "    return syndrome\n",
    "\n",
    "\n",
    "\n",
    "# ---------------------------------------------------------------------------\n",
    "\n",
    "def calculateSyndromeGDBFM(codeword, parityCheck):\n",
    "    # Izračunavanje sindroma parnosti\n",
    "    syndrome = 1\n",
    "\n",
    "    for bitPosition in parityCheck:\n",
    "        syndrome *= codeword[bitPosition]\n",
    "\n",
    "    return syndrome\n",
    "\n",
    "\n",
    "# --------------------------------------------------------------------------\n",
    "def findBitFlipPositions(codeword, syndrome, parityCheck):\n",
    "    # Pronalaženje pozicija bitova koje treba invertovati\n",
    "    flipPositions = []\n",
    "    for bitPosition in parityCheck:\n",
    "        if syndrome != codeword[bitPosition]:\n",
    "            flipPositions.append(bitPosition)\n",
    "\n",
    "    return flipPositions\n",
    "\n",
    "# --------------------------------------------------------------------------\n",
    "\n",
    "def findParityPositions(LDPCmatrix):\n",
    "    return [list(np.nonzero(row)[0]) for row in LDPCmatrix]  # vraca se LDPC Code u daljnjem\n",
    "\n",
    "# --------------------------------------------------------------------------\n",
    "\n",
    "def recnik(LDPCCode, H):\n",
    "    dict = {}\n",
    "    values = []\n",
    "    for i in range(len(H[0])):\n",
    "        for parity in LDPCCode:\n",
    "            if i in parity:\n",
    "                values.append(LDPCCode.index(parity))\n",
    "        dict.update({i:values})\n",
    "        values = []\n",
    "    return dict\n",
    "\n",
    "# -------------------------------------------------------------------------\n",
    "\n",
    "def decisionMaking(codeword, recnik, iterator, LDPCCode):\n",
    "    syndromeList = []\n",
    "\n",
    "    parity = recnik[iterator]\n",
    "    for i in parity:\n",
    "        syndromeList.append(calculateSyndrome(codeword, LDPCCode[i]))\n",
    "    \n",
    "    if syndromeList.count(1) > syndromeList.count(-1):\n",
    "        return 1\n",
    "    else:\n",
    "        return -1\n",
    "\n",
    "\n",
    "# --------------------------------------------------------------------------\n",
    "\n",
    "def bitFlippingDecoder(codeword, maxIterations, recnik, LDPCCode):\n",
    "    # Inicijalizacija\n",
    "    decodedWord = codeword.copy()\n",
    "    numIterations = 0\n",
    "\n",
    "    while numIterations < maxIterations:\n",
    "        converged = True\n",
    "\n",
    "        # Iteracija kroz sve parnosti u kodu\n",
    "        for i in range(len(decodedWord)):\n",
    "            newSyndrome = decisionMaking(decodedWord, recnik, i, LDPCCode)\n",
    "\n",
    "            # Provera i ispravka grešaka\n",
    "            if newSyndrome == -1:\n",
    "                decodedWord[i] *= -1\n",
    "            \n",
    "                converged = False\n",
    "        numIterations += 1\n",
    "\n",
    "        if converged: break\n",
    "\n",
    "    return decodedWord\n",
    "\n",
    "\n",
    "# -------------------------------------------------------------------------\n",
    "\n",
    "def sign(x):\n",
    "    return (x > 0) - (x < 0)\n",
    "\n",
    "# -------------------------------------------------------------------------\n",
    "# -------------------------------------------------------------------------\n",
    "# -------------------------------------------------------------------------\n"
   ]
  },
  {
   "cell_type": "code",
   "execution_count": 120,
   "metadata": {},
   "outputs": [
    {
     "name": "stdout",
     "output_type": "stream",
     "text": [
      "[-1, -1, 1, 1, -1, 1]\n",
      "[-1, -1, 1, 1, -1, 1]\n",
      "decoded_sequence_BF [-1, -1, 1, 1, -1, 1]\n"
     ]
    }
   ],
   "source": [
    "matrix = np.array([\n",
    "    [1, 0, 0, 1, 0, 0],\n",
    "    [0, 1, 0, 1, 0, 0],\n",
    "    [1, 0, 0, 0, 0, 1]\n",
    "])\n",
    "\n",
    "parity_positions = findParityPositions(matrix)  # 'parity_positions' stores the positions of ones in the parity-check matrix.\n",
    "codeword = [1, 1, 0, 0, 1, 0]\n",
    "codeword_copy = codeword.copy()\n",
    "\n",
    "for i in range(len(codeword)):\n",
    "    if codeword[i] == 0:\n",
    "        codeword[i] = 1  # Convert 0 to 1.\n",
    "    else:\n",
    "        codeword[i] = -1  # Convert 1 to -1.\n",
    "\n",
    "print(codeword)\n",
    "\n",
    "parity_dictionary = recnik(parity_positions, matrix)\n",
    "\n",
    "num_tests = 1\n",
    "\n",
    "bit_flipping_errors = []\n",
    "\n",
    "for k in range(num_tests):\n",
    "    codeword_copy = codeword.copy()\n",
    "    print(codeword_copy)\n",
    "    decoded_sequence_BF = bitFlippingDecoder(codeword_copy, 4, parity_dictionary, parity_positions)\n",
    "\n",
    "    print(\"decoded_sequence_BF\", decoded_sequence_BF)\n",
    "    if decoded_sequence_BF.count(-1) == 0:\n",
    "        bit_flipping_errors.append(0)\n",
    "    else:\n",
    "        bit_flipping_errors.append(1)"
   ]
  },
  {
   "cell_type": "code",
   "execution_count": 112,
   "metadata": {},
   "outputs": [
    {
     "data": {
      "text/plain": [
       "{0: [0, 2], 1: [1], 2: [], 3: [0, 1], 4: [], 5: [2]}"
      ]
     },
     "execution_count": 112,
     "metadata": {},
     "output_type": "execute_result"
    }
   ],
   "source": [
    "parity_dictionary"
   ]
  },
  {
   "cell_type": "code",
   "execution_count": 105,
   "metadata": {},
   "outputs": [
    {
     "data": {
      "text/plain": [
       "{0: [0, 2], 1: [1], 2: [], 3: [0, 1], 4: [], 5: [2]}"
      ]
     },
     "execution_count": 105,
     "metadata": {},
     "output_type": "execute_result"
    }
   ],
   "source": [
    "parity_dictionary"
   ]
  },
  {
   "cell_type": "code",
   "execution_count": 104,
   "metadata": {},
   "outputs": [
    {
     "data": {
      "text/plain": [
       "[-1, -1, 1, -1, -1, 1]"
      ]
     },
     "execution_count": 104,
     "metadata": {},
     "output_type": "execute_result"
    }
   ],
   "source": [
    "decoded_sequence_BF"
   ]
  },
  {
   "cell_type": "code",
   "execution_count": 89,
   "metadata": {},
   "outputs": [
    {
     "data": {
      "text/plain": [
       "array([2, 1, 1])"
      ]
     },
     "execution_count": 89,
     "metadata": {},
     "output_type": "execute_result"
    }
   ],
   "source": [
    "codeword = [1, 0, 0, 1, 0, 0]\n",
    "matrix @ codeword"
   ]
  },
  {
   "cell_type": "code",
   "execution_count": null,
   "metadata": {},
   "outputs": [],
   "source": [
    "matrix = np.array([\n",
    "    [1, 0, 0, 1, 0, 0],\n",
    "    [0, 1, 0, 1, 0, 0],\n",
    "    [1, 0, 0, 0, 0, 1]\n",
    "])\n",
    "\n",
    "parity_positions = findParityPositions(matrix)  # 'parity_positions' stores the positions of ones in the parity-check matrix.\n",
    "codeword = [1, 0, 0, 1, 0, 0]"
   ]
  },
  {
   "cell_type": "code",
   "execution_count": 20,
   "metadata": {},
   "outputs": [
    {
     "data": {
      "text/plain": [
       "[0.01455]"
      ]
     },
     "execution_count": 20,
     "metadata": {},
     "output_type": "execute_result"
    }
   ],
   "source": [
    "FER_bit_flipping"
   ]
  },
  {
   "cell_type": "code",
   "execution_count": 43,
   "metadata": {},
   "outputs": [],
   "source": [
    "import numpy as np\n",
    "import ldpc.codes\n",
    "from ldpc import BpDecoder\n",
    "\n",
    "H=np.array([\n",
    "    [1, 0, 0, 1, 0, 0],\n",
    "    [0, 1, 0, 1, 0, 0],\n",
    "    [1, 0, 0, 0, 0, 1]\n",
    "])\n",
    "n=H.shape[1] #the codeword length\n",
    "\n",
    "bpd = BpDecoder(\n",
    "    H, #the parity check matrix\n",
    "    error_rate=0.1, # the error rate on each bit\n",
    "    max_iter=n, #the maximum iteration depth for BP\n",
    "    bp_method=\"product_sum\", #BP method. The other option is `minimum_sum'\n",
    ")"
   ]
  },
  {
   "cell_type": "code",
   "execution_count": 44,
   "metadata": {},
   "outputs": [
    {
     "data": {
      "text/plain": [
       "array([[1, 0, 0, 1, 0, 0],\n",
       "       [0, 1, 0, 1, 0, 0],\n",
       "       [1, 0, 0, 0, 0, 1]])"
      ]
     },
     "execution_count": 44,
     "metadata": {},
     "output_type": "execute_result"
    }
   ],
   "source": [
    "H"
   ]
  },
  {
   "cell_type": "code",
   "execution_count": 47,
   "metadata": {},
   "outputs": [
    {
     "name": "stdout",
     "output_type": "stream",
     "text": [
      "[0 0 0 0 1 0]\n"
     ]
    }
   ],
   "source": [
    "received_vector=np.array([1, 0, 0, 0, 1, 0])\n",
    "decoded_codeword=bpd.decode(received_vector)\n",
    "\n",
    "print(decoded_codeword)\n"
   ]
  },
  {
   "cell_type": "code",
   "execution_count": 48,
   "metadata": {},
   "outputs": [
    {
     "data": {
      "text/plain": [
       "array([0, 0, 0])"
      ]
     },
     "execution_count": 48,
     "metadata": {},
     "output_type": "execute_result"
    }
   ],
   "source": [
    "H @ decoded_codeword"
   ]
  },
  {
   "cell_type": "code",
   "execution_count": null,
   "metadata": {},
   "outputs": [],
   "source": []
  }
 ],
 "metadata": {
  "kernelspec": {
   "display_name": "venv",
   "language": "python",
   "name": "python3"
  },
  "language_info": {
   "codemirror_mode": {
    "name": "ipython",
    "version": 3
   },
   "file_extension": ".py",
   "mimetype": "text/x-python",
   "name": "python",
   "nbconvert_exporter": "python",
   "pygments_lexer": "ipython3",
   "version": "3.10.10"
  }
 },
 "nbformat": 4,
 "nbformat_minor": 2
}
