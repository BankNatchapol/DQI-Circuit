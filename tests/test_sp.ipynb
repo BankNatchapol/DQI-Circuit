{
 "cells": [
  {
   "cell_type": "code",
   "execution_count": 1,
   "metadata": {},
   "outputs": [],
   "source": [
    "from qiskit import QuantumCircuit\n"
   ]
  },
  {
   "cell_type": "markdown",
   "metadata": {},
   "source": [
    "https://arxiv.org/html/2408.01304v1"
   ]
  },
  {
   "cell_type": "code",
   "execution_count": null,
   "metadata": {},
   "outputs": [],
   "source": []
  },
  {
   "cell_type": "code",
   "execution_count": 478,
   "metadata": {},
   "outputs": [],
   "source": [
    "import numpy as np\n",
    "from qiskit.circuit.library import MCXGate, MCMTGate, XGate\n",
    "from qiskit.circuit import Gate\n",
    "from itertools import product\n",
    "from qiskit.quantum_info import Statevector\n",
    "\n",
    "class MTGate(Gate):\n",
    "    def __init__(\n",
    "        self,\n",
    "        gate,\n",
    "        num_target_qubits: int\n",
    "        ):\n",
    "        super().__init__('MT', num_target_qubits, [])\n",
    "        self.gate = gate\n",
    "        self.num_target_qubits = num_target_qubits\n",
    "\n",
    "    def _define(self):\n",
    "        qc = QuantumCircuit(self.num_target_qubits, name='MT')\n",
    "        \n",
    "        for i in range(self.num_target_qubits):\n",
    "            qc.append(self.gate, [i])\n",
    "\n",
    "        self.definition = qc\n",
    "\n",
    "class CMXGate(Gate):\n",
    "    def __init__(\n",
    "        self,\n",
    "        num_target_qubits: int\n",
    "        ):\n",
    "        super().__init__('CMT', num_target_qubits + 1, [])\n",
    "        self.num_target_qubits = num_target_qubits\n",
    "\n",
    "    def _define(self):\n",
    "        qc = QuantumCircuit(self.num_target_qubits + 1, name='CMT')\n",
    "        \n",
    "        for i in range(self.num_target_qubits - 1):\n",
    "            qc.cx(self.num_target_qubits - i -1, self.num_target_qubits - i)\n",
    "        \n",
    "        qc.cx(0, 1)\n",
    "\n",
    "        for i in range(self.num_target_qubits - 1):\n",
    "            qc.cx(i + 1, i + 2)\n",
    "\n",
    "        self.definition = qc\n",
    "\n",
    "\n",
    "def binary_combinations(n):\n",
    "    # Generate all combinations of binary of length n\n",
    "    return [''.join(map(str, bits)) for bits in product([0, 1], repeat=n)]\n",
    "\n",
    "class SelectGate(Gate):\n",
    "    def __init__(\n",
    "        self,\n",
    "        target_state: list\n",
    "    ) -> None:\n",
    "        \n",
    "        self.target_state = target_state\n",
    "        state_length = len(self.target_state)\n",
    "        if state_length <= 0 or (state_length & (state_length - 1)) != 0:\n",
    "            raise Exception(f\"Number of state must equal to 2^n, got {state_length}\")\n",
    "\n",
    "        self.num_ctrl_qubits = int(np.log2(len(self.target_state)))\n",
    "        self.num_target_qubits = max(target_state).bit_length()\n",
    "        \n",
    "        # initialize the circuit object\n",
    "        num_qubits = self.num_ctrl_qubits + self.num_target_qubits\n",
    "        self.num_qubits = num_qubits\n",
    "        super().__init__(\"Select\", num_qubits, [])\n",
    "\n",
    "    def _define(self):\n",
    "        combinations = binary_combinations(self.num_ctrl_qubits)\n",
    "        qc = QuantumCircuit(self.num_qubits, name='Select')\n",
    "        \n",
    "        for i, ctrl_state in enumerate(combinations):\n",
    "            target_value = self.target_state[i]\n",
    "            bin_target_value = bin(target_value)[2:]\n",
    "            num_qubits = bin_target_value.count(\"1\")\n",
    "            if num_qubits == 0:\n",
    "                continue\n",
    "            \n",
    "            mcmx_gate = MCMTGate(\n",
    "                gate = XGate(),\n",
    "                num_ctrl_qubits = self.num_ctrl_qubits,\n",
    "                num_target_qubits = num_qubits,\n",
    "                ctrl_state = ctrl_state # [::-1]\n",
    "            )\n",
    "            \n",
    "            target_qubits = []\n",
    "            for bi, v in enumerate(bin_target_value[::-1]):\n",
    "                if v == '1':\n",
    "                    target_qubits.append(self.num_ctrl_qubits + bi)\n",
    "                    \n",
    "            qc.append(mcmx_gate, list(range(self.num_ctrl_qubits)) + target_qubits)\n",
    "\n",
    "        self.definition = qc\n",
    "\n",
    "class SelectNetwork(Gate):\n",
    "    def __init__(\n",
    "        self,\n",
    "        lamb: int,\n",
    "        target_state: list,\n",
    "        barrier: bool = False\n",
    "    ) -> None:\n",
    "        \n",
    "        self.lamb = lamb\n",
    "        self.target_state = target_state\n",
    "        self.barrier = barrier\n",
    "\n",
    "        state_length = len(self.target_state)\n",
    "\n",
    "        if state_length % self.lamb != 0:\n",
    "            raise Exception(f\"Number of state {state_length} must be divisible by lambda {self.lamb}\")\n",
    "        state_length_dl = int(state_length/self.lamb)\n",
    "        if state_length_dl <= 0 or (state_length_dl & (state_length_dl - 1)) != 0:\n",
    "            raise Exception(f\"Number of state {state_length_dl}/{self.lamb}={state_length_dl/self.lamb} must equal to 2^n\")\n",
    "\n",
    "        self.num_ctrl_qubits = int(np.log2(state_length_dl)) \n",
    "        self.num_target_qubits = max(target_state).bit_length()\n",
    "        self.total_num_target_qubits = self.num_target_qubits * self.lamb\n",
    "\n",
    "        # initialize the circuit object\n",
    "        num_qubits = self.num_ctrl_qubits + self.total_num_target_qubits\n",
    "        self.num_qubits = num_qubits\n",
    "        super().__init__(\"Select\", num_qubits, [])\n",
    "\n",
    "    def _define(self):\n",
    "        combinations = binary_combinations(self.num_ctrl_qubits)\n",
    "        qc = QuantumCircuit(self.num_qubits, name='Select')\n",
    "        \n",
    "        for i, ctrl_state in enumerate(combinations):\n",
    "            ap_qubits = list(range(self.num_ctrl_qubits))\n",
    "            for j in range(self.lamb):\n",
    "                target_value = self.target_state[i*self.lamb + j]\n",
    "                bin_target_value = bin(target_value)[2:]\n",
    "\n",
    "                num_qubits = bin_target_value.count(\"1\")\n",
    "                if num_qubits == 0:\n",
    "                    continue\n",
    "            \n",
    "                target_qubits = []\n",
    "                for bi, v in enumerate(bin_target_value[::-1]):\n",
    "                    if v == '1':\n",
    "                        target_qubits.append(bi)\n",
    "                        \n",
    "                ap_qubits += [self.num_ctrl_qubits + v + j*self.num_target_qubits for v in target_qubits]\n",
    "            \n",
    "            if len(ap_qubits) - self.num_ctrl_qubits <= 0:\n",
    "                continue\n",
    "            \n",
    "            if self.num_ctrl_qubits == 0:\n",
    "                mx_gate = MTGate(\n",
    "                    gate = XGate(),\n",
    "                    num_target_qubits = len(ap_qubits) - self.num_ctrl_qubits,\n",
    "                )\n",
    "            else:\n",
    "                mx_gate = MCMTGate(\n",
    "                    gate = XGate(),\n",
    "                    num_ctrl_qubits = self.num_ctrl_qubits,\n",
    "                    num_target_qubits = len(ap_qubits) - self.num_ctrl_qubits,\n",
    "                    ctrl_state = ctrl_state # [::-1]\n",
    "                )\n",
    "                \n",
    "            qc.append(mx_gate, ap_qubits)\n",
    "            if i != len(combinations) - 1:\n",
    "                if self.barrier:\n",
    "                    qc.barrier()\n",
    "                \n",
    "        self.definition = qc\n",
    "\n",
    "class LambdaSwapNetwork(Gate):\n",
    "    def __init__(\n",
    "        self,\n",
    "        lamb: int,\n",
    "        num_target_qubits: int\n",
    "    ) -> None:\n",
    "        self.lamb = lamb\n",
    "        self.num_ctrl_qubits = round(np.log2(self.lamb))\n",
    "        self.num_target_qubits = num_target_qubits\n",
    "        self.total_num_target_qubits = self.num_target_qubits * self.lamb\n",
    "        self.num_ancilla_qubit = 1\n",
    "        # initialize the circuit object\n",
    "        num_qubits = self.num_ctrl_qubits + self.num_ancilla_qubit + self.total_num_target_qubits\n",
    "        self.num_qubits = num_qubits\n",
    "        super().__init__(\"Swap\", num_qubits, [])\n",
    "\n",
    "    def _define(self):\n",
    "        combinations = binary_combinations(self.num_ctrl_qubits)\n",
    "        qc = QuantumCircuit(self.num_qubits, name='Swap')\n",
    "        \n",
    "        for i in range(self.lamb):\n",
    "            if i == 0:\n",
    "                continue\n",
    "            ctrl_state = combinations[i]\n",
    "            mcx_gate = MCMTGate(\n",
    "                gate = XGate(),\n",
    "                num_ctrl_qubits = self.num_ctrl_qubits,\n",
    "                num_target_qubits = 1,\n",
    "                ctrl_state = ctrl_state # [::-1]\n",
    "            )\n",
    "            qc.append(mcx_gate, list(range(self.num_ctrl_qubits)) + [self.num_ctrl_qubits])\n",
    "            for j in range(self.num_target_qubits):\n",
    "                qc.cswap(self.num_ctrl_qubits, self.num_ctrl_qubits+1+j, self.num_ctrl_qubits+1+j+(i*self.num_target_qubits))\n",
    "            qc.append(mcx_gate, list(range(self.num_ctrl_qubits)) + [self.num_ctrl_qubits])\n",
    "\n",
    "        self.definition = qc"
   ]
  },
  {
   "cell_type": "code",
   "execution_count": 479,
   "metadata": {},
   "outputs": [
    {
     "data": {
      "text/html": [
       "<pre style=\"word-wrap: normal;white-space: pre;background: #fff0;line-height: 1.1;font-family: &quot;Courier New&quot;,Courier,monospace\">                              \n",
       "q_0: ────────────■────────────\n",
       "               ┌─┴─┐          \n",
       "q_1: ───────■──┤ X ├──■───────\n",
       "          ┌─┴─┐└───┘┌─┴─┐     \n",
       "q_2: ──■──┤ X ├─────┤ X ├──■──\n",
       "     ┌─┴─┐└───┘     └───┘┌─┴─┐\n",
       "q_3: ┤ X ├───────────────┤ X ├\n",
       "     └───┘               └───┘\n",
       "q_4: ─────────────────────────\n",
       "                              \n",
       "q_5: ─────────────────────────\n",
       "                              </pre>"
      ],
      "text/plain": [
       "                              \n",
       "q_0: ────────────■────────────\n",
       "               ┌─┴─┐          \n",
       "q_1: ───────■──┤ X ├──■───────\n",
       "          ┌─┴─┐└───┘┌─┴─┐     \n",
       "q_2: ──■──┤ X ├─────┤ X ├──■──\n",
       "     ┌─┴─┐└───┘     └───┘┌─┴─┐\n",
       "q_3: ┤ X ├───────────────┤ X ├\n",
       "     └───┘               └───┘\n",
       "q_4: ─────────────────────────\n",
       "                              \n",
       "q_5: ─────────────────────────\n",
       "                              "
      ]
     },
     "execution_count": 479,
     "metadata": {},
     "output_type": "execute_result"
    }
   ],
   "source": [
    "qc = QuantumCircuit(6)\n",
    "qc.append(CMXGate(3), [0, 1, 2, 3])\n",
    "qc.decompose().draw()"
   ]
  },
  {
   "cell_type": "code",
   "execution_count": 480,
   "metadata": {},
   "outputs": [
    {
     "data": {
      "text/html": [
       "<pre style=\"word-wrap: normal;white-space: pre;background: #fff0;line-height: 1.1;font-family: &quot;Courier New&quot;,Courier,monospace\">     ┌───┐\n",
       "q_0: ┤ X ├\n",
       "     ├───┤\n",
       "q_1: ┤ X ├\n",
       "     └───┘\n",
       "q_2: ─────\n",
       "          \n",
       "q_3: ─────\n",
       "     ┌───┐\n",
       "q_4: ┤ X ├\n",
       "     └───┘\n",
       "q_5: ─────\n",
       "          </pre>"
      ],
      "text/plain": [
       "     ┌───┐\n",
       "q_0: ┤ X ├\n",
       "     ├───┤\n",
       "q_1: ┤ X ├\n",
       "     └───┘\n",
       "q_2: ─────\n",
       "          \n",
       "q_3: ─────\n",
       "     ┌───┐\n",
       "q_4: ┤ X ├\n",
       "     └───┘\n",
       "q_5: ─────\n",
       "          "
      ]
     },
     "execution_count": 480,
     "metadata": {},
     "output_type": "execute_result"
    }
   ],
   "source": [
    "qc = QuantumCircuit(6)\n",
    "qc.append(\n",
    "    MTGate(\n",
    "        gate=XGate(),\n",
    "        num_target_qubits=3\n",
    "        ), [0, 1, 4]\n",
    "    )\n",
    "qc.decompose().draw()"
   ]
  },
  {
   "cell_type": "code",
   "execution_count": 481,
   "metadata": {},
   "outputs": [
    {
     "data": {
      "text/html": [
       "<pre style=\"word-wrap: normal;white-space: pre;background: #fff0;line-height: 1.1;font-family: &quot;Courier New&quot;,Courier,monospace\">     ┌───────────┐ 1-X  2-X   1-X \n",
       "q_0: ┤ U3(π,0,π) ├──■────o─────■──\n",
       "     └───────────┘  │    │     │  \n",
       "q_1: ───────────────o────■─────■──\n",
       "                  ┌─┴─┐┌─┴──┐  │  \n",
       "q_2: ─────────────┤ X ├┤0   ├──┼──\n",
       "                  └───┘│    │  │  \n",
       "q_3: ──────────────────┤  X ├──┼──\n",
       "                       │    │  │  \n",
       "q_4: ──────────────────┤1   ├──┼──\n",
       "                       └────┘┌─┴─┐\n",
       "q_5: ────────────────────────┤ X ├\n",
       "                             └───┘</pre>"
      ],
      "text/plain": [
       "     ┌───────────┐ 1-X  2-X   1-X \n",
       "q_0: ┤ U3(π,0,π) ├──■────o─────■──\n",
       "     └───────────┘  │    │     │  \n",
       "q_1: ───────────────o────■─────■──\n",
       "                  ┌─┴─┐┌─┴──┐  │  \n",
       "q_2: ─────────────┤ X ├┤0   ├──┼──\n",
       "                  └───┘│    │  │  \n",
       "q_3: ──────────────────┤  X ├──┼──\n",
       "                       │    │  │  \n",
       "q_4: ──────────────────┤1   ├──┼──\n",
       "                       └────┘┌─┴─┐\n",
       "q_5: ────────────────────────┤ X ├\n",
       "                             └───┘"
      ]
     },
     "execution_count": 481,
     "metadata": {},
     "output_type": "execute_result"
    }
   ],
   "source": [
    "select_gate_1 = SelectGate(target_state=[0, 1, 5, 8])\n",
    "qc = QuantumCircuit(select_gate_1.num_qubits)\n",
    "qc.x(0)\n",
    "qc.append(select_gate_1, range(select_gate_1.num_qubits))\n",
    "qc.decompose().draw()"
   ]
  },
  {
   "cell_type": "code",
   "execution_count": 482,
   "metadata": {},
   "outputs": [
    {
     "data": {
      "text/plain": [
       "6"
      ]
     },
     "execution_count": 482,
     "metadata": {},
     "output_type": "execute_result"
    }
   ],
   "source": [
    "select_gate_1.num_qubits"
   ]
  },
  {
   "cell_type": "code",
   "execution_count": 483,
   "metadata": {},
   "outputs": [
    {
     "data": {
      "text/html": [
       "<pre style=\"word-wrap: normal;white-space: pre;background: #fff0;line-height: 1.1;font-family: &quot;Courier New&quot;,Courier,monospace\">     ┌───────────┐ ░  2-X   ░  5-X  \n",
       "q_0: ┤ U3(π,0,π) ├─░───o────░───■───\n",
       "     └───────────┘ ░   │    ░ ┌─┴──┐\n",
       "q_1: ──────────────░───┼────░─┤0   ├\n",
       "                   ░   │    ░ │    │\n",
       "q_2: ──────────────░───┼────░─┤1   ├\n",
       "                   ░   │    ░ │    │\n",
       "q_3: ──────────────░───┼────░─┤    ├\n",
       "                   ░ ┌─┴──┐ ░ │    │\n",
       "q_4: ──────────────░─┤0   ├─░─┤    ├\n",
       "                   ░ │    │ ░ │    │\n",
       "q_5: ──────────────░─┤    ├─░─┤  X ├\n",
       "                   ░ │    │ ░ │    │\n",
       "q_6: ──────────────░─┤  X ├─░─┤2   ├\n",
       "                   ░ │    │ ░ │    │\n",
       "q_7: ──────────────░─┤    ├─░─┤3   ├\n",
       "                   ░ │    │ ░ │    │\n",
       "q_8: ──────────────░─┤1   ├─░─┤    ├\n",
       "                   ░ └────┘ ░ │    │\n",
       "q_9: ──────────────░────────░─┤4   ├\n",
       "                   ░        ░ └────┘</pre>"
      ],
      "text/plain": [
       "     ┌───────────┐ ░  2-X   ░  5-X  \n",
       "q_0: ┤ U3(π,0,π) ├─░───o────░───■───\n",
       "     └───────────┘ ░   │    ░ ┌─┴──┐\n",
       "q_1: ──────────────░───┼────░─┤0   ├\n",
       "                   ░   │    ░ │    │\n",
       "q_2: ──────────────░───┼────░─┤1   ├\n",
       "                   ░   │    ░ │    │\n",
       "q_3: ──────────────░───┼────░─┤    ├\n",
       "                   ░ ┌─┴──┐ ░ │    │\n",
       "q_4: ──────────────░─┤0   ├─░─┤    ├\n",
       "                   ░ │    │ ░ │    │\n",
       "q_5: ──────────────░─┤    ├─░─┤  X ├\n",
       "                   ░ │    │ ░ │    │\n",
       "q_6: ──────────────░─┤  X ├─░─┤2   ├\n",
       "                   ░ │    │ ░ │    │\n",
       "q_7: ──────────────░─┤    ├─░─┤3   ├\n",
       "                   ░ │    │ ░ │    │\n",
       "q_8: ──────────────░─┤1   ├─░─┤    ├\n",
       "                   ░ └────┘ ░ │    │\n",
       "q_9: ──────────────░────────░─┤4   ├\n",
       "                   ░        ░ └────┘"
      ]
     },
     "execution_count": 483,
     "metadata": {},
     "output_type": "execute_result"
    }
   ],
   "source": [
    "select_gate_1 = SelectNetwork(lamb=3, target_state=[0, 1, 2, 3, 4, 5], barrier=True)\n",
    "qc = QuantumCircuit(select_gate_1.num_qubits)\n",
    "qc.x(0)\n",
    "qc.barrier()\n",
    "qc.append(select_gate_1, range(select_gate_1.num_qubits))\n",
    "qc.decompose().draw()"
   ]
  },
  {
   "cell_type": "code",
   "execution_count": 484,
   "metadata": {},
   "outputs": [
    {
     "data": {
      "text/plain": [
       "6"
      ]
     },
     "execution_count": 484,
     "metadata": {},
     "output_type": "execute_result"
    }
   ],
   "source": [
    "swap_gate_1.num_qubits"
   ]
  },
  {
   "cell_type": "code",
   "execution_count": 485,
   "metadata": {},
   "outputs": [
    {
     "data": {
      "text/html": [
       "<pre style=\"word-wrap: normal;white-space: pre;background: #fff0;line-height: 1.1;font-family: &quot;Courier New&quot;,Courier,monospace\">     ┌───────────┐ 1-X        1-X \n",
       "q_0: ┤ U3(π,0,π) ├──■──────────■──\n",
       "     └───────────┘┌─┴─┐      ┌─┴─┐\n",
       "q_1: ─────────────┤ X ├─■──■─┤ X ├\n",
       "                  └───┘ │  │ └───┘\n",
       "q_2: ───────────────────X──┼──────\n",
       "                        │  │      \n",
       "q_3: ───────────────────┼──X──────\n",
       "                        │  │      \n",
       "q_4: ───────────────────X──┼──────\n",
       "     ┌───────────┐         │      \n",
       "q_5: ┤ U3(π,0,π) ├─────────X──────\n",
       "     └───────────┘                </pre>"
      ],
      "text/plain": [
       "     ┌───────────┐ 1-X        1-X \n",
       "q_0: ┤ U3(π,0,π) ├──■──────────■──\n",
       "     └───────────┘┌─┴─┐      ┌─┴─┐\n",
       "q_1: ─────────────┤ X ├─■──■─┤ X ├\n",
       "                  └───┘ │  │ └───┘\n",
       "q_2: ───────────────────X──┼──────\n",
       "                        │  │      \n",
       "q_3: ───────────────────┼──X──────\n",
       "                        │  │      \n",
       "q_4: ───────────────────X──┼──────\n",
       "     ┌───────────┐         │      \n",
       "q_5: ┤ U3(π,0,π) ├─────────X──────\n",
       "     └───────────┘                "
      ]
     },
     "execution_count": 485,
     "metadata": {},
     "output_type": "execute_result"
    }
   ],
   "source": [
    "swap_gate_1 = LambdaSwapNetwork(lamb=2, num_target_qubits=2)\n",
    "qc = QuantumCircuit(swap_gate_1.num_qubits)\n",
    "qc.x(0)\n",
    "qc.x(5)\n",
    "qc.append(swap_gate_1, range(swap_gate_1.num_qubits))\n",
    "\n",
    "qc.decompose().draw()\n"
   ]
  },
  {
   "cell_type": "code",
   "execution_count": 486,
   "metadata": {},
   "outputs": [
    {
     "data": {
      "text/latex": [
       "$$ |001001\\rangle$$"
      ],
      "text/plain": [
       "<IPython.core.display.Latex object>"
      ]
     },
     "execution_count": 486,
     "metadata": {},
     "output_type": "execute_result"
    }
   ],
   "source": [
    "Statevector(qc).draw('latex')"
   ]
  }
 ],
 "metadata": {
  "kernelspec": {
   "display_name": "venv",
   "language": "python",
   "name": "python3"
  },
  "language_info": {
   "codemirror_mode": {
    "name": "ipython",
    "version": 3
   },
   "file_extension": ".py",
   "mimetype": "text/x-python",
   "name": "python",
   "nbconvert_exporter": "python",
   "pygments_lexer": "ipython3",
   "version": "3.10.10"
  }
 },
 "nbformat": 4,
 "nbformat_minor": 2
}
