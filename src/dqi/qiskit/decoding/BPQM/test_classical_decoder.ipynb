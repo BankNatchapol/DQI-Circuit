{
 "cells": [
  {
   "cell_type": "code",
   "execution_count": null,
   "id": "e5d00a8c",
   "metadata": {},
   "outputs": [],
   "source": [
    "import numpy as np\n",
    "\n",
    "class SimpleBpDecoder:\n",
    "    \"\"\"\n",
    "    Simple belief propagation (sum-product) decoder for LDPC codes.\n",
    "    Supports both codeword decoding (mG=c) and syndrome-based error decoding (yH=s).\n",
    "    \"\"\"\n",
    "\n",
    "    def __init__(self, H, max_iter=50, tol=1e-6):\n",
    "        \"\"\"\n",
    "        Initialize decoder with parity-check matrix H.\n",
    "        \"\"\"\n",
    "        self.H = np.array(H, dtype=np.uint8)\n",
    "        self.m, self.n = self.H.shape\n",
    "        # neighbor lists for variable-to-check and check-to-variable messages\n",
    "        self.var_nodes = [np.where(self.H[:, j])[0] for j in range(self.n)]\n",
    "        self.check_nodes = [np.where(self.H[i, :])[0] for i in range(self.m)]\n",
    "        self.max_iter = max_iter\n",
    "        self.tol = tol\n",
    "\n",
    "    def decode(self, received=None, error_rate=None, llr=None, syndrome=None):\n",
    "        \"\"\"\n",
    "        Decode using belief propagation.\n",
    "\n",
    "        - For codeword decoding, provide 'received' bits and 'error_rate', or directly 'llr'.\n",
    "          Returns decoded codeword.\n",
    "        - For syndrome decoding, provide 'syndrome' and 'error_rate' (or 'llr').\n",
    "          Returns estimated error pattern y such that H@y = syndrome (mod 2).\n",
    "        \"\"\"\n",
    "        # Syndrome-based error decoding\n",
    "        if syndrome is not None:\n",
    "            s = np.array(syndrome, dtype=np.uint8)\n",
    "            # initialize LLR for error bits\n",
    "            if llr is None:\n",
    "                if error_rate is None:\n",
    "                    raise ValueError(\"Provide 'syndrome' with either llr or error_rate.\")\n",
    "                p = error_rate\n",
    "                if not 0 < p < 1:\n",
    "                    raise ValueError(\"error_rate must be in (0,1).\")\n",
    "                llr = np.full(self.n, np.log((1 - p) / p), dtype=float)\n",
    "            else:\n",
    "                llr = np.array(llr, dtype=float)\n",
    "                if llr.shape[0] != self.n:\n",
    "                    raise ValueError(f\"LLR length must be {self.n}.\")\n",
    "            # messages\n",
    "            msg_vc = {(i, j): llr[j] for i in range(self.m) for j in self.check_nodes[i]}\n",
    "            msg_cv = {(i, j): 0.0 for i in range(self.m) for j in self.check_nodes[i]}\n",
    "            # iterate\n",
    "            for _ in range(self.max_iter):\n",
    "                # check-node update (include syndrome)\n",
    "                for i in range(self.m):\n",
    "                    for j in self.check_nodes[i]:\n",
    "                        prod = 1.0\n",
    "                        for jj in self.check_nodes[i]:\n",
    "                            if jj != j:\n",
    "                                prod *= np.tanh(msg_vc[(i, jj)] / 2.0)\n",
    "                        # apply syndrome sign\n",
    "                        prod *= -1 if s[i] else 1\n",
    "                        prod = np.clip(prod, -0.999999, 0.999999)\n",
    "                        msg_cv[(i, j)] = 2.0 * np.arctanh(prod)\n",
    "                # variable-node update\n",
    "                for j in range(self.n):\n",
    "                    for i in self.var_nodes[j]:\n",
    "                        total = llr[j] + sum(msg_cv[(ii, j)] for ii in self.var_nodes[j] if ii != i)\n",
    "                        msg_vc[(i, j)] = total\n",
    "                # posterior and decision\n",
    "                llr_post = np.zeros(self.n)\n",
    "                for j in range(self.n):\n",
    "                    llr_post[j] = llr[j] + sum(msg_cv[(i, j)] for i in self.var_nodes[j])\n",
    "                y_est = (llr_post < 0).astype(np.uint8)\n",
    "                # check syndrome match\n",
    "                if np.all(self.H.dot(y_est) % 2 == s):\n",
    "                    return y_est\n",
    "            return y_est\n",
    "\n",
    "        # Codeword decoding\n",
    "        # compute channel LLRs if needed\n",
    "        if llr is None:\n",
    "            if received is None or error_rate is None:\n",
    "                raise ValueError(\"Provide either llr or both 'received' and 'error_rate'.\")\n",
    "            p = error_rate\n",
    "            if not 0 < p < 1:\n",
    "                raise ValueError(\"error_rate must be in (0,1).\")\n",
    "            received = np.array(received, dtype=np.uint8)\n",
    "            llr = np.log((1 - p) / p) * (1 - 2 * received)\n",
    "        else:\n",
    "            llr = np.array(llr, dtype=float)\n",
    "            if llr.shape[0] != self.n:\n",
    "                raise ValueError(f\"LLR length must be {self.n}.\")\n",
    "        # initialize messages\n",
    "        msg_vc = {(i, j): llr[j] for i in range(self.m) for j in self.check_nodes[i]}\n",
    "        msg_cv = {(i, j): 0.0 for i in range(self.m) for j in self.check_nodes[i]}\n",
    "        for _ in range(self.max_iter):\n",
    "            # check-node update\n",
    "            for i in range(self.m):\n",
    "                for j in self.check_nodes[i]:\n",
    "                    prod = 1.0\n",
    "                    for jj in self.check_nodes[i]:\n",
    "                        if jj != j:\n",
    "                            prod *= np.tanh(msg_vc[(i, jj)] / 2.0)\n",
    "                    prod = np.clip(prod, -0.999999, 0.999999)\n",
    "                    msg_cv[(i, j)] = 2.0 * np.arctanh(prod)\n",
    "            # variable-node update\n",
    "            for j in range(self.n):\n",
    "                for i in self.var_nodes[j]:\n",
    "                    total = llr[j] + sum(msg_cv[(ii, j)] for ii in self.var_nodes[j] if ii != i)\n",
    "                    msg_vc[(i, j)] = total\n",
    "            # posterior and decision\n",
    "            llr_post = np.zeros(self.n)\n",
    "            for j in range(self.n):\n",
    "                llr_post[j] = llr[j] + sum(msg_cv[(i, j)] for i in self.var_nodes[j])\n",
    "            decoded = (llr_post < 0).astype(np.uint8)\n",
    "            # check parity\n",
    "            if np.all(self.H.dot(decoded) % 2 == 0):\n",
    "                return decoded\n",
    "        return decoded"
   ]
  },
  {
   "cell_type": "code",
   "execution_count": 52,
   "id": "e3633cd5",
   "metadata": {},
   "outputs": [],
   "source": [
    "import numpy as np\n",
    "import ldpc.codes\n",
    "from ldpc import BpDecoder\n",
    "\n",
    "H=ldpc.codes.rep_code(5) #parity check matrix for the length-3 repetition code\n",
    "n=H.shape[1] #the codeword length\n",
    "\n",
    "bpd = BpDecoder(\n",
    "    H, #the parity check matrix\n",
    "    error_rate=0.1, # the error rate on each bit\n",
    "    max_iter=n, #the maximum iteration depth for BP\n",
    "    bp_method=\"product_sum\", #BP method. The other option is `minimum_sum'\n",
    ")"
   ]
  },
  {
   "cell_type": "code",
   "execution_count": 61,
   "id": "7a5f44ff",
   "metadata": {},
   "outputs": [],
   "source": [
    "received_vector=np.array([1,0,1,1,0])"
   ]
  },
  {
   "cell_type": "code",
   "execution_count": 62,
   "id": "a04de404",
   "metadata": {},
   "outputs": [
    {
     "name": "stdout",
     "output_type": "stream",
     "text": [
      "Syndrome:  [1 1 0 1]\n",
      "Estimated error pattern y: [0 1 0 0 1]\n"
     ]
    }
   ],
   "source": [
    "s = H.dot(received_vector) % 2\n",
    "print(\"Syndrome: \", s)\n",
    "\n",
    "decoded_codeword=bpd.decode(s)\n",
    "\n",
    "print('Estimated error pattern y:', decoded_codeword)"
   ]
  },
  {
   "cell_type": "code",
   "execution_count": 63,
   "id": "3ca420fa",
   "metadata": {},
   "outputs": [
    {
     "data": {
      "text/plain": [
       "array([[1, 1, 0, 0, 0],\n",
       "       [0, 1, 1, 0, 0],\n",
       "       [0, 0, 1, 1, 0],\n",
       "       [0, 0, 0, 1, 1]], dtype=uint8)"
      ]
     },
     "execution_count": 63,
     "metadata": {},
     "output_type": "execute_result"
    }
   ],
   "source": [
    "H.toarray()"
   ]
  },
  {
   "cell_type": "code",
   "execution_count": 64,
   "id": "6c9c3e6c",
   "metadata": {},
   "outputs": [
    {
     "name": "stdout",
     "output_type": "stream",
     "text": [
      "Syndrome:  [1 1 0 1]\n",
      "Estimated error pattern y: [0 1 0 0 1]\n"
     ]
    }
   ],
   "source": [
    "s = H.dot(received_vector) % 2\n",
    "print(\"Syndrome: \", s)\n",
    "decoder = SimpleBpDecoder(H.toarray(), max_iter=100)\n",
    "y_est = decoder.decode(syndrome=s, error_rate=0.05)\n",
    "print('Estimated error pattern y:', y_est)"
   ]
  },
  {
   "cell_type": "code",
   "execution_count": null,
   "id": "d28343d1",
   "metadata": {},
   "outputs": [],
   "source": []
  }
 ],
 "metadata": {
  "kernelspec": {
   "display_name": "venv",
   "language": "python",
   "name": "python3"
  },
  "language_info": {
   "codemirror_mode": {
    "name": "ipython",
    "version": 3
   },
   "file_extension": ".py",
   "mimetype": "text/x-python",
   "name": "python",
   "nbconvert_exporter": "python",
   "pygments_lexer": "ipython3",
   "version": "3.10.10"
  }
 },
 "nbformat": 4,
 "nbformat_minor": 5
}
