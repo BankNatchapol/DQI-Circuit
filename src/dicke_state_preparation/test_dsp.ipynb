{
 "cells": [
  {
   "cell_type": "code",
   "execution_count": 2,
   "metadata": {},
   "outputs": [],
   "source": [
    "import numpy as np\n",
    "from qiskit import QuantumCircuit\n",
    "from qiskit.circuit.library import RYGate\n",
    "from qiskit.circuit import Gate\n",
    "from qiskit.quantum_info import Statevector"
   ]
  },
  {
   "cell_type": "code",
   "execution_count": 3,
   "metadata": {},
   "outputs": [],
   "source": [
    "class SCS2Gate(Gate):\n",
    "    def __init__(\n",
    "        self,\n",
    "        n: int,\n",
    "    ) -> None:\n",
    "        self.n = n\n",
    "        super().__init__(\"SCS2\", 2, [])\n",
    "\n",
    "    def _define(self):\n",
    "        qc = QuantumCircuit(2, name='SCS2')\n",
    "\n",
    "        qc.cx(1, 0)\n",
    "\n",
    "        theta = 2*np.arccos(np.sqrt(1/self.n))\n",
    "        cry = RYGate(theta).control(ctrl_state=\"1\")\n",
    "        qc.append(cry, [0, 1])\n",
    "\n",
    "        qc.cx(1, 0)\n",
    "\n",
    "        self.definition = qc\n",
    "\n",
    "class SCS3Gate(Gate):\n",
    "    def __init__(\n",
    "        self,\n",
    "        l: int,\n",
    "        n: int,\n",
    "    ) -> None:\n",
    "        self.l = l\n",
    "        self.n = n\n",
    "        super().__init__(\"SCS3\", 3, [])\n",
    "\n",
    "    def _define(self):\n",
    "        qc = QuantumCircuit(3, name='SCS3')\n",
    "\n",
    "        qc.cx(2, 0)\n",
    "\n",
    "        theta = 2*np.arccos(np.sqrt(self.l/self.n))\n",
    "        ccry = RYGate(theta).control(num_ctrl_qubits = 2, ctrl_state=\"11\")\n",
    "        qc.append(ccry, [0, 1, 2])\n",
    "\n",
    "        qc.cx(2, 0)\n",
    "\n",
    "        self.definition = qc\n",
    "\n",
    "class SCSnkGate(Gate):\n",
    "    def __init__(\n",
    "        self,\n",
    "        n: int,\n",
    "        k: int,\n",
    "    ) -> None:\n",
    "        self.n = n\n",
    "        self.k = k\n",
    "        super().__init__(f\"SCS{self.n},{self.k}\", self.k+1, [])\n",
    "\n",
    "    def _define(self):\n",
    "        qc = QuantumCircuit(self.k+1, name=f\"SCS{self.n},{self.k}\")\n",
    "\n",
    "        qc.append(SCS2Gate(n=self.n), [0, 1])\n",
    "\n",
    "        for l in range(2, self.k+1):\n",
    "            qc.append(SCS3Gate(l=l, n=self.n), [0, l-1, l])\n",
    "\n",
    "        self.definition = qc"
   ]
  },
  {
   "cell_type": "code",
   "execution_count": 4,
   "metadata": {},
   "outputs": [
    {
     "data": {
      "text/html": [
       "<pre style=\"word-wrap: normal;white-space: pre;background: #fff0;line-height: 1.1;font-family: &quot;Courier New&quot;,Courier,monospace\">     ┌───────────┐┌───┐              ┌───┐\n",
       "q_0: ┤ U3(π,0,π) ├┤ X ├──────■───────┤ X ├\n",
       "     └───────────┘└─┬─┘┌─────┴──────┐└─┬─┘\n",
       "q_1: ───────────────■──┤ Ry(1.9106) ├──■──\n",
       "                       └────────────┘     </pre>"
      ],
      "text/plain": [
       "     ┌───────────┐┌───┐              ┌───┐\n",
       "q_0: ┤ U3(π,0,π) ├┤ X ├──────■───────┤ X ├\n",
       "     └───────────┘└─┬─┘┌─────┴──────┐└─┬─┘\n",
       "q_1: ───────────────■──┤ Ry(1.9106) ├──■──\n",
       "                       └────────────┘     "
      ]
     },
     "execution_count": 4,
     "metadata": {},
     "output_type": "execute_result"
    }
   ],
   "source": [
    "qc = QuantumCircuit(2)\n",
    "qc.x(0)\n",
    "qc.append(SCS2Gate(n=3), [0, 1])\n",
    "qc.decompose().draw()"
   ]
  },
  {
   "cell_type": "code",
   "execution_count": 5,
   "metadata": {},
   "outputs": [
    {
     "data": {
      "text/latex": [
       "$$\\frac{\\sqrt{3}}{3} |01\\rangle+\\frac{\\sqrt{6}}{3} |10\\rangle$$"
      ],
      "text/plain": [
       "<IPython.core.display.Latex object>"
      ]
     },
     "execution_count": 5,
     "metadata": {},
     "output_type": "execute_result"
    }
   ],
   "source": [
    "Statevector(qc).draw('latex')"
   ]
  },
  {
   "cell_type": "code",
   "execution_count": 6,
   "metadata": {},
   "outputs": [
    {
     "data": {
      "text/html": [
       "<pre style=\"word-wrap: normal;white-space: pre;background: #fff0;line-height: 1.1;font-family: &quot;Courier New&quot;,Courier,monospace\">     ┌───────────┐┌───┐              ┌───┐\n",
       "q_0: ┤ U3(π,0,π) ├┤ X ├──────■───────┤ X ├\n",
       "     ├───────────┤└─┬─┘      │       └─┬─┘\n",
       "q_1: ┤ U3(π,0,π) ├──┼────────■─────────┼──\n",
       "     └───────────┘  │  ┌─────┴──────┐  │  \n",
       "q_2: ───────────────■──┤ Ry(1.9106) ├──■──\n",
       "                       └────────────┘     </pre>"
      ],
      "text/plain": [
       "     ┌───────────┐┌───┐              ┌───┐\n",
       "q_0: ┤ U3(π,0,π) ├┤ X ├──────■───────┤ X ├\n",
       "     ├───────────┤└─┬─┘      │       └─┬─┘\n",
       "q_1: ┤ U3(π,0,π) ├──┼────────■─────────┼──\n",
       "     └───────────┘  │  ┌─────┴──────┐  │  \n",
       "q_2: ───────────────■──┤ Ry(1.9106) ├──■──\n",
       "                       └────────────┘     "
      ]
     },
     "execution_count": 6,
     "metadata": {},
     "output_type": "execute_result"
    }
   ],
   "source": [
    "qc = QuantumCircuit(3)\n",
    "qc.x(0)\n",
    "qc.x(1)\n",
    "qc.append(SCS3Gate(l=1, n=3), [0, 1, 2])\n",
    "qc.decompose().draw()"
   ]
  },
  {
   "cell_type": "code",
   "execution_count": 7,
   "metadata": {},
   "outputs": [
    {
     "data": {
      "text/latex": [
       "$$\\frac{\\sqrt{3}}{3} |011\\rangle+\\frac{\\sqrt{6}}{3} |110\\rangle$$"
      ],
      "text/plain": [
       "<IPython.core.display.Latex object>"
      ]
     },
     "execution_count": 7,
     "metadata": {},
     "output_type": "execute_result"
    }
   ],
   "source": [
    "Statevector(qc).draw('latex')"
   ]
  },
  {
   "cell_type": "code",
   "execution_count": 8,
   "metadata": {},
   "outputs": [
    {
     "data": {
      "text/html": [
       "<pre style=\"word-wrap: normal;white-space: pre;background: #fff0;line-height: 1.1;font-family: &quot;Courier New&quot;,Courier,monospace\">     ┌──────────┐┌───┐              ┌───┐┌───┐              ┌───┐┌───┐»\n",
       "q_0: ┤ U(π,0,π) ├┤ X ├──────■───────┤ X ├┤ X ├──────■───────┤ X ├┤ X ├»\n",
       "     ├──────────┤└─┬─┘┌─────┴──────┐└─┬─┘└─┬─┘      │       └─┬─┘└─┬─┘»\n",
       "q_1: ┤ U(π,0,π) ├──■──┤ Ry(2.2143) ├──■────┼────────■─────────┼────┼──»\n",
       "     ├──────────┤     └────────────┘       │  ┌─────┴──────┐  │    │  »\n",
       "q_2: ┤ U(π,0,π) ├──────────────────────────■──┤ Ry(1.7722) ├──■────┼──»\n",
       "     └──────────┘                             └────────────┘       │  »\n",
       "q_3: ──────────────────────────────────────────────────────────────■──»\n",
       "                                                                      »\n",
       "q_4: ─────────────────────────────────────────────────────────────────»\n",
       "                                                                      »\n",
       "«                        ┌───┐                                           »\n",
       "«q_0: ──────■────────────┤ X ├───────────────────────────────────────────»\n",
       "«           │       ┌───┐└─┬─┘            ┌───┐┌───┐           ┌───┐┌───┐»\n",
       "«q_1: ──────┼───────┤ X ├──┼───────■──────┤ X ├┤ X ├─────■─────┤ X ├┤ X ├»\n",
       "«           │       └─┬─┘  │  ┌────┴─────┐└─┬─┘└─┬─┘     │     └─┬─┘└─┬─┘»\n",
       "«q_2: ──────■─────────■────┼──┤ Ry(2π/3) ├──■────┼───────■───────┼────┼──»\n",
       "«     ┌─────┴──────┐       │  └──────────┘       │  ┌────┴────┐  │    │  »\n",
       "«q_3: ┤ Ry(1.3694) ├───────■─────────────────────■──┤ Ry(π/2) ├──■────┼──»\n",
       "«     └────────────┘                                └─────────┘       │  »\n",
       "«q_4: ────────────────────────────────────────────────────────────────■──»\n",
       "«                                                                        »\n",
       "«                                                                         »\n",
       "«q_0: ────────────────────────────────────────────────────────────────────»\n",
       "«                     ┌───┐                                               »\n",
       "«q_1: ─────■──────────┤ X ├───────────────────────────────────────────────»\n",
       "«          │     ┌───┐└─┬─┘              ┌───┐┌───┐             ┌───┐     »\n",
       "«q_2: ─────┼─────┤ X ├──┼────────■───────┤ X ├┤ X ├──────■──────┤ X ├─────»\n",
       "«          │     └─┬─┘  │  ┌─────┴──────┐└─┬─┘└─┬─┘      │      └─┬─┘┌───┐»\n",
       "«q_3: ─────■───────■────┼──┤ Ry(1.9106) ├──■────┼────────■────────┼──┤ X ├»\n",
       "«     ┌────┴────┐       │  └────────────┘       │  ┌─────┴─────┐  │  └─┬─┘»\n",
       "«q_4: ┤ Ry(π/3) ├───────■───────────────────────■──┤ Ry(1.231) ├──■────■──»\n",
       "«     └─────────┘                                  └───────────┘          »\n",
       "«                     \n",
       "«q_0: ────────────────\n",
       "«                     \n",
       "«q_1: ────────────────\n",
       "«                     \n",
       "«q_2: ────────────────\n",
       "«                ┌───┐\n",
       "«q_3: ─────■─────┤ X ├\n",
       "«     ┌────┴────┐└─┬─┘\n",
       "«q_4: ┤ Ry(π/2) ├──■──\n",
       "«     └─────────┘     </pre>"
      ],
      "text/plain": [
       "     ┌──────────┐┌───┐              ┌───┐┌───┐              ┌───┐┌───┐»\n",
       "q_0: ┤ U(π,0,π) ├┤ X ├──────■───────┤ X ├┤ X ├──────■───────┤ X ├┤ X ├»\n",
       "     ├──────────┤└─┬─┘┌─────┴──────┐└─┬─┘└─┬─┘      │       └─┬─┘└─┬─┘»\n",
       "q_1: ┤ U(π,0,π) ├──■──┤ Ry(2.2143) ├──■────┼────────■─────────┼────┼──»\n",
       "     ├──────────┤     └────────────┘       │  ┌─────┴──────┐  │    │  »\n",
       "q_2: ┤ U(π,0,π) ├──────────────────────────■──┤ Ry(1.7722) ├──■────┼──»\n",
       "     └──────────┘                             └────────────┘       │  »\n",
       "q_3: ──────────────────────────────────────────────────────────────■──»\n",
       "                                                                      »\n",
       "q_4: ─────────────────────────────────────────────────────────────────»\n",
       "                                                                      »\n",
       "«                        ┌───┐                                           »\n",
       "«q_0: ──────■────────────┤ X ├───────────────────────────────────────────»\n",
       "«           │       ┌───┐└─┬─┘            ┌───┐┌───┐           ┌───┐┌───┐»\n",
       "«q_1: ──────┼───────┤ X ├──┼───────■──────┤ X ├┤ X ├─────■─────┤ X ├┤ X ├»\n",
       "«           │       └─┬─┘  │  ┌────┴─────┐└─┬─┘└─┬─┘     │     └─┬─┘└─┬─┘»\n",
       "«q_2: ──────■─────────■────┼──┤ Ry(2π/3) ├──■────┼───────■───────┼────┼──»\n",
       "«     ┌─────┴──────┐       │  └──────────┘       │  ┌────┴────┐  │    │  »\n",
       "«q_3: ┤ Ry(1.3694) ├───────■─────────────────────■──┤ Ry(π/2) ├──■────┼──»\n",
       "«     └────────────┘                                └─────────┘       │  »\n",
       "«q_4: ────────────────────────────────────────────────────────────────■──»\n",
       "«                                                                        »\n",
       "«                                                                         »\n",
       "«q_0: ────────────────────────────────────────────────────────────────────»\n",
       "«                     ┌───┐                                               »\n",
       "«q_1: ─────■──────────┤ X ├───────────────────────────────────────────────»\n",
       "«          │     ┌───┐└─┬─┘              ┌───┐┌───┐             ┌───┐     »\n",
       "«q_2: ─────┼─────┤ X ├──┼────────■───────┤ X ├┤ X ├──────■──────┤ X ├─────»\n",
       "«          │     └─┬─┘  │  ┌─────┴──────┐└─┬─┘└─┬─┘      │      └─┬─┘┌───┐»\n",
       "«q_3: ─────■───────■────┼──┤ Ry(1.9106) ├──■────┼────────■────────┼──┤ X ├»\n",
       "«     ┌────┴────┐       │  └────────────┘       │  ┌─────┴─────┐  │  └─┬─┘»\n",
       "«q_4: ┤ Ry(π/3) ├───────■───────────────────────■──┤ Ry(1.231) ├──■────■──»\n",
       "«     └─────────┘                                  └───────────┘          »\n",
       "«                     \n",
       "«q_0: ────────────────\n",
       "«                     \n",
       "«q_1: ────────────────\n",
       "«                     \n",
       "«q_2: ────────────────\n",
       "«                ┌───┐\n",
       "«q_3: ─────■─────┤ X ├\n",
       "«     ┌────┴────┐└─┬─┘\n",
       "«q_4: ┤ Ry(π/2) ├──■──\n",
       "«     └─────────┘     "
      ]
     },
     "execution_count": 8,
     "metadata": {},
     "output_type": "execute_result"
    }
   ],
   "source": [
    "qc = QuantumCircuit(5)\n",
    "qc.x(0)\n",
    "qc.x(1)\n",
    "qc.x(2)\n",
    "\n",
    "qc.append(SCSnkGate(n=5, k=3), range(4))\n",
    "qc.append(SCSnkGate(n=4, k=3), range(1, 5))\n",
    "qc.append(SCSnkGate(n=3, k=2), range(2, 5))\n",
    "qc.append(SCSnkGate(n=2, k=1), range(3, 5))\n",
    "qc.decompose().decompose().draw()"
   ]
  },
  {
   "cell_type": "code",
   "execution_count": 9,
   "metadata": {},
   "outputs": [
    {
     "data": {
      "text/html": [
       "<pre style=\"word-wrap: normal;white-space: pre;background: #fff0;line-height: 1.1;font-family: &quot;Courier New&quot;,Courier,monospace\">     ┌───┐┌─────────┐                                 \n",
       "q_0: ┤ X ├┤0        ├─────────────────────────────────\n",
       "     ├───┤│         │┌─────────┐                      \n",
       "q_1: ┤ X ├┤1        ├┤0        ├──────────────────────\n",
       "     ├───┤│  Scs5,3 ││         │┌─────────┐           \n",
       "q_2: ┤ X ├┤2        ├┤1        ├┤0        ├───────────\n",
       "     └───┘│         ││  Scs4,3 ││         │┌─────────┐\n",
       "q_3: ─────┤3        ├┤2        ├┤1 Scs3,2 ├┤0        ├\n",
       "          └─────────┘│         ││         ││  Scs2,1 │\n",
       "q_4: ────────────────┤3        ├┤2        ├┤1        ├\n",
       "                     └─────────┘└─────────┘└─────────┘</pre>"
      ],
      "text/plain": [
       "     ┌───┐┌─────────┐                                 \n",
       "q_0: ┤ X ├┤0        ├─────────────────────────────────\n",
       "     ├───┤│         │┌─────────┐                      \n",
       "q_1: ┤ X ├┤1        ├┤0        ├──────────────────────\n",
       "     ├───┤│  Scs5,3 ││         │┌─────────┐           \n",
       "q_2: ┤ X ├┤2        ├┤1        ├┤0        ├───────────\n",
       "     └───┘│         ││  Scs4,3 ││         │┌─────────┐\n",
       "q_3: ─────┤3        ├┤2        ├┤1 Scs3,2 ├┤0        ├\n",
       "          └─────────┘│         ││         ││  Scs2,1 │\n",
       "q_4: ────────────────┤3        ├┤2        ├┤1        ├\n",
       "                     └─────────┘└─────────┘└─────────┘"
      ]
     },
     "execution_count": 9,
     "metadata": {},
     "output_type": "execute_result"
    }
   ],
   "source": [
    "qc.draw()"
   ]
  },
  {
   "cell_type": "code",
   "execution_count": 10,
   "metadata": {},
   "outputs": [
    {
     "data": {
      "text/latex": [
       "$$\\frac{\\sqrt{10}}{10} |00111\\rangle+\\frac{\\sqrt{10}}{10} |01011\\rangle+\\frac{\\sqrt{10}}{10} |01101\\rangle+\\frac{\\sqrt{10}}{10} |01110\\rangle+\\frac{\\sqrt{10}}{10} |10011\\rangle+\\frac{\\sqrt{10}}{10} |10101\\rangle+\\frac{\\sqrt{10}}{10} |10110\\rangle+\\frac{\\sqrt{10}}{10} |11001\\rangle+\\frac{\\sqrt{10}}{10} |11010\\rangle+\\frac{\\sqrt{10}}{10} |11100\\rangle$$"
      ],
      "text/plain": [
       "<IPython.core.display.Latex object>"
      ]
     },
     "execution_count": 10,
     "metadata": {},
     "output_type": "execute_result"
    }
   ],
   "source": [
    "Statevector(qc).draw('latex')"
   ]
  },
  {
   "cell_type": "code",
   "execution_count": 11,
   "metadata": {},
   "outputs": [
    {
     "name": "stdout",
     "output_type": "stream",
     "text": [
      "1\n",
      "5 3\n",
      "0\n",
      "4 3\n",
      "\n",
      "3 2\n",
      "2 1\n"
     ]
    }
   ],
   "source": [
    "n = 5\n",
    "k = 3\n",
    "\n",
    "for l in range(n, k, -1):\n",
    "    print(l-k-1)\n",
    "    print(l, k)\n",
    "print()\n",
    "for l in range(k, 1, -1):\n",
    "    print(l, l-1)"
   ]
  },
  {
   "cell_type": "code",
   "execution_count": 12,
   "metadata": {},
   "outputs": [
    {
     "data": {
      "text/html": [
       "<pre style=\"word-wrap: normal;white-space: pre;background: #fff0;line-height: 1.1;font-family: &quot;Courier New&quot;,Courier,monospace\">     ┌──────────┐┌───┐            ┌───┐┌───┐           ┌───┐┌───┐           »\n",
       "q_0: ┤ U(π,0,π) ├┤ X ├─────■──────┤ X ├┤ X ├─────■─────┤ X ├┤ X ├─────■─────»\n",
       "     ├──────────┤└─┬─┘┌────┴─────┐└─┬─┘└─┬─┘     │     └─┬─┘└─┬─┘     │     »\n",
       "q_1: ┤ U(π,0,π) ├──■──┤ Ry(2π/3) ├──■────┼───────■───────┼────┼───────┼─────»\n",
       "     ├──────────┤     └──────────┘       │  ┌────┴────┐  │    │       │     »\n",
       "q_2: ┤ U(π,0,π) ├────────────────────────■──┤ Ry(π/2) ├──■────┼───────■─────»\n",
       "     └──────────┘                           └─────────┘       │  ┌────┴────┐»\n",
       "q_3: ─────────────────────────────────────────────────────────■──┤ Ry(π/3) ├»\n",
       "                                                                 └─────────┘»\n",
       "q_4: ───────────────────────────────────────────────────────────────────────»\n",
       "                                                                            »\n",
       "«          ┌───┐                                                               \n",
       "«q_0: ─────┤ X ├───────────────────────────────────────────────────────────────\n",
       "«     ┌───┐└─┬─┘              ┌───┐┌───┐             ┌───┐                     \n",
       "«q_1: ┤ X ├──┼────────■───────┤ X ├┤ X ├──────■──────┤ X ├─────────────────────\n",
       "«     └─┬─┘  │  ┌─────┴──────┐└─┬─┘└─┬─┘      │      └─┬─┘┌───┐           ┌───┐\n",
       "«q_2: ──■────┼──┤ Ry(1.9106) ├──■────┼────────■────────┼──┤ X ├─────■─────┤ X ├\n",
       "«            │  └────────────┘       │  ┌─────┴─────┐  │  └─┬─┘┌────┴────┐└─┬─┘\n",
       "«q_3: ───────■───────────────────────■──┤ Ry(1.231) ├──■────■──┤ Ry(π/2) ├──■──\n",
       "«                                       └───────────┘          └─────────┘     \n",
       "«q_4: ─────────────────────────────────────────────────────────────────────────\n",
       "«                                                                              </pre>"
      ],
      "text/plain": [
       "     ┌──────────┐┌───┐            ┌───┐┌───┐           ┌───┐┌───┐           »\n",
       "q_0: ┤ U(π,0,π) ├┤ X ├─────■──────┤ X ├┤ X ├─────■─────┤ X ├┤ X ├─────■─────»\n",
       "     ├──────────┤└─┬─┘┌────┴─────┐└─┬─┘└─┬─┘     │     └─┬─┘└─┬─┘     │     »\n",
       "q_1: ┤ U(π,0,π) ├──■──┤ Ry(2π/3) ├──■────┼───────■───────┼────┼───────┼─────»\n",
       "     ├──────────┤     └──────────┘       │  ┌────┴────┐  │    │       │     »\n",
       "q_2: ┤ U(π,0,π) ├────────────────────────■──┤ Ry(π/2) ├──■────┼───────■─────»\n",
       "     └──────────┘                           └─────────┘       │  ┌────┴────┐»\n",
       "q_3: ─────────────────────────────────────────────────────────■──┤ Ry(π/3) ├»\n",
       "                                                                 └─────────┘»\n",
       "q_4: ───────────────────────────────────────────────────────────────────────»\n",
       "                                                                            »\n",
       "«          ┌───┐                                                               \n",
       "«q_0: ─────┤ X ├───────────────────────────────────────────────────────────────\n",
       "«     ┌───┐└─┬─┘              ┌───┐┌───┐             ┌───┐                     \n",
       "«q_1: ┤ X ├──┼────────■───────┤ X ├┤ X ├──────■──────┤ X ├─────────────────────\n",
       "«     └─┬─┘  │  ┌─────┴──────┐└─┬─┘└─┬─┘      │      └─┬─┘┌───┐           ┌───┐\n",
       "«q_2: ──■────┼──┤ Ry(1.9106) ├──■────┼────────■────────┼──┤ X ├─────■─────┤ X ├\n",
       "«            │  └────────────┘       │  ┌─────┴─────┐  │  └─┬─┘┌────┴────┐└─┬─┘\n",
       "«q_3: ───────■───────────────────────■──┤ Ry(1.231) ├──■────■──┤ Ry(π/2) ├──■──\n",
       "«                                       └───────────┘          └─────────┘     \n",
       "«q_4: ─────────────────────────────────────────────────────────────────────────\n",
       "«                                                                              "
      ]
     },
     "execution_count": 12,
     "metadata": {},
     "output_type": "execute_result"
    }
   ],
   "source": [
    "n = 4\n",
    "k = 3\n",
    "\n",
    "qc = QuantumCircuit(5)\n",
    "for i in range(k):\n",
    "    qc.x(i)\n",
    "    \n",
    "for l in range(n, k, -1):\n",
    "    qc.append(SCSnkGate(n=l, k=k), range(n-l, n-l+k+1))\n",
    "\n",
    "for l in range(k, 1, -1):\n",
    "    qc.append(SCSnkGate(n=l, k=l-1), range(n-l, n))\n",
    "\n",
    "qc.decompose().decompose().draw()"
   ]
  },
  {
   "cell_type": "code",
   "execution_count": 13,
   "metadata": {},
   "outputs": [
    {
     "data": {
      "text/html": [
       "<pre style=\"word-wrap: normal;white-space: pre;background: #fff0;line-height: 1.1;font-family: &quot;Courier New&quot;,Courier,monospace\">     ┌───┐┌─────────┐                      \n",
       "q_0: ┤ X ├┤0        ├──────────────────────\n",
       "     ├───┤│         │┌─────────┐           \n",
       "q_1: ┤ X ├┤1        ├┤0        ├───────────\n",
       "     ├───┤│  Scs4,3 ││         │┌─────────┐\n",
       "q_2: ┤ X ├┤2        ├┤1 Scs3,2 ├┤0        ├\n",
       "     └───┘│         ││         ││  Scs2,1 │\n",
       "q_3: ─────┤3        ├┤2        ├┤1        ├\n",
       "          └─────────┘└─────────┘└─────────┘\n",
       "q_4: ──────────────────────────────────────\n",
       "                                           </pre>"
      ],
      "text/plain": [
       "     ┌───┐┌─────────┐                      \n",
       "q_0: ┤ X ├┤0        ├──────────────────────\n",
       "     ├───┤│         │┌─────────┐           \n",
       "q_1: ┤ X ├┤1        ├┤0        ├───────────\n",
       "     ├───┤│  Scs4,3 ││         │┌─────────┐\n",
       "q_2: ┤ X ├┤2        ├┤1 Scs3,2 ├┤0        ├\n",
       "     └───┘│         ││         ││  Scs2,1 │\n",
       "q_3: ─────┤3        ├┤2        ├┤1        ├\n",
       "          └─────────┘└─────────┘└─────────┘\n",
       "q_4: ──────────────────────────────────────\n",
       "                                           "
      ]
     },
     "execution_count": 13,
     "metadata": {},
     "output_type": "execute_result"
    }
   ],
   "source": [
    "qc.draw()"
   ]
  },
  {
   "cell_type": "code",
   "execution_count": 14,
   "metadata": {},
   "outputs": [
    {
     "data": {
      "text/plain": [
       "4"
      ]
     },
     "execution_count": 14,
     "metadata": {},
     "output_type": "execute_result"
    }
   ],
   "source": [
    "from math import comb\n",
    "comb(n, k)"
   ]
  },
  {
   "cell_type": "code",
   "execution_count": 15,
   "metadata": {},
   "outputs": [
    {
     "data": {
      "text/latex": [
       "$$\\frac{1}{2} |00111\\rangle+\\frac{1}{2} |01011\\rangle+\\frac{1}{2} |01101\\rangle+\\frac{1}{2} |01110\\rangle$$"
      ],
      "text/plain": [
       "<IPython.core.display.Latex object>"
      ]
     },
     "execution_count": 15,
     "metadata": {},
     "output_type": "execute_result"
    }
   ],
   "source": [
    "Statevector(qc).draw('latex')"
   ]
  },
  {
   "cell_type": "code",
   "execution_count": 19,
   "metadata": {},
   "outputs": [],
   "source": [
    "class DickeStatePreparation(QuantumCircuit):\n",
    "    def __init__(\n",
    "        self,\n",
    "        n,\n",
    "        k\n",
    "        ):\n",
    "        self.n = n\n",
    "        self.k = k\n",
    "        \n",
    "        qc = self.circuit()\n",
    "        super().__init__(*qc.qregs, name=qc.name)\n",
    "        self.compose(qc.to_gate(), qubits=self.qubits, inplace=True)\n",
    "    \n",
    "    def circuit(self):\n",
    "        n = self.n\n",
    "        k = self.k\n",
    "        qc = QuantumCircuit(n, name=f\"DickeStatePreparation {n},{k}\")\n",
    "        # for i in range(k):\n",
    "        #     qc.x(i)\n",
    "            \n",
    "        for l in range(n, k, -1):\n",
    "            qc.append(SCSnkGate(n=l, k=k), range(n-l, n-l+k+1))\n",
    "\n",
    "        for l in range(k, 1, -1):\n",
    "            qc.append(SCSnkGate(n=l, k=l-1), range(n-l, n))\n",
    "\n",
    "        return qc"
   ]
  },
  {
   "cell_type": "code",
   "execution_count": null,
   "metadata": {},
   "outputs": [],
   "source": []
  },
  {
   "cell_type": "code",
   "execution_count": 36,
   "metadata": {},
   "outputs": [
    {
     "data": {
      "text/html": [
       "<pre style=\"word-wrap: normal;white-space: pre;background: #fff0;line-height: 1.1;font-family: &quot;Courier New&quot;,Courier,monospace\">          ┌────────────────────────────┐\n",
       "q_0: ─────┤0                           ├\n",
       "     ┌───┐│                            │\n",
       "q_1: ┤ X ├┤1                           ├\n",
       "     └───┘│                            │\n",
       "q_2: ─────┤2 DickeStatePreparation 5,3 ├\n",
       "          │                            │\n",
       "q_3: ─────┤3                           ├\n",
       "          │                            │\n",
       "q_4: ─────┤4                           ├\n",
       "          └────────────────────────────┘</pre>"
      ],
      "text/plain": [
       "          ┌────────────────────────────┐\n",
       "q_0: ─────┤0                           ├\n",
       "     ┌───┐│                            │\n",
       "q_1: ┤ X ├┤1                           ├\n",
       "     └───┘│                            │\n",
       "q_2: ─────┤2 DickeStatePreparation 5,3 ├\n",
       "          │                            │\n",
       "q_3: ─────┤3                           ├\n",
       "          │                            │\n",
       "q_4: ─────┤4                           ├\n",
       "          └────────────────────────────┘"
      ]
     },
     "execution_count": 36,
     "metadata": {},
     "output_type": "execute_result"
    }
   ],
   "source": [
    "qc = QuantumCircuit(5)\n",
    "qc.x(1)\n",
    "qc.append(DickeStatePreparation(5, 3), range(5))\n",
    "qc.draw()"
   ]
  },
  {
   "cell_type": "code",
   "execution_count": 35,
   "metadata": {},
   "outputs": [
    {
     "data": {
      "text/latex": [
       "$$\\frac{\\sqrt{10}}{10} |00011\\rangle+\\frac{\\sqrt{10}}{10} |00101\\rangle+\\frac{\\sqrt{10}}{10} |00110\\rangle+\\frac{\\sqrt{10}}{10} |01001\\rangle+\\frac{\\sqrt{10}}{10} |01010\\rangle+\\frac{\\sqrt{10}}{10} |01100\\rangle+\\frac{\\sqrt{10}}{10} |10001\\rangle+\\frac{\\sqrt{10}}{10} |10010\\rangle+\\frac{\\sqrt{10}}{10} |10100\\rangle+\\frac{\\sqrt{10}}{10} |11000\\rangle$$"
      ],
      "text/plain": [
       "<IPython.core.display.Latex object>"
      ]
     },
     "execution_count": 35,
     "metadata": {},
     "output_type": "execute_result"
    }
   ],
   "source": [
    "Statevector(qc).draw('latex')"
   ]
  },
  {
   "cell_type": "code",
   "execution_count": null,
   "metadata": {},
   "outputs": [],
   "source": []
  }
 ],
 "metadata": {
  "kernelspec": {
   "display_name": "venv",
   "language": "python",
   "name": "python3"
  },
  "language_info": {
   "codemirror_mode": {
    "name": "ipython",
    "version": 3
   },
   "file_extension": ".py",
   "mimetype": "text/x-python",
   "name": "python",
   "nbconvert_exporter": "python",
   "pygments_lexer": "ipython3",
   "version": "3.10.10"
  }
 },
 "nbformat": 4,
 "nbformat_minor": 2
}
